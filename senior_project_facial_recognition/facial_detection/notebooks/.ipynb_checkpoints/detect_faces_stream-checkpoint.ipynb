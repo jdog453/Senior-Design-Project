{
 "cells": [
  {
   "cell_type": "code",
   "execution_count": 1,
   "id": "45c5d8e8",
   "metadata": {},
   "outputs": [],
   "source": [
    "# import the necessary packages\n",
    "from imutils.video import VideoStream\n",
    "from imutils.video import FPS\n",
    "import numpy as np\n",
    "import imutils\n",
    "import pickle\n",
    "import time\n",
    "import cv2\n",
    "import os, sys\n",
    "\n",
    "# Import functions from gunController utilities file\n",
    "sys.path.append('../../facial_recognition/utilities')\n",
    "from gunController import *\n",
    "from ROIClass import *\n",
    "from alignFaces import *"
   ]
  },
  {
   "cell_type": "code",
   "execution_count": 2,
   "id": "811ca0ae",
   "metadata": {},
   "outputs": [],
   "source": [
    "data_params = {\n",
    "    \"detector\":\"../../facial_detection/models/\", # Path to OpenCV's deep learning face detector\n",
    "    \"detection_confidence\":0.5, # Min probability to filter weak detections\n",
    "}"
   ]
  },
  {
   "cell_type": "code",
   "execution_count": 3,
   "id": "b09131e7",
   "metadata": {},
   "outputs": [],
   "source": [
    "# The gunController object is initialized.\n",
    "# gc = gunController()"
   ]
  },
  {
   "cell_type": "code",
   "execution_count": 4,
   "id": "83ab9c28",
   "metadata": {},
   "outputs": [
    {
     "name": "stdout",
     "output_type": "stream",
     "text": [
      "[INFO] loading face detector...\n"
     ]
    }
   ],
   "source": [
    "# load our serialized face detector from disk\n",
    "print(\"[INFO] loading face detector...\")\n",
    "protoPath = os.path.sep.join([data_params[\"detector\"], \"deploy.prototxt\"])\n",
    "modelPath = os.path.sep.join([data_params[\"detector\"], \"res10_300x300_ssd_iter_140000.caffemodel\"])\n",
    "detector = cv2.dnn.readNetFromCaffe(protoPath, modelPath)"
   ]
  },
  {
   "cell_type": "code",
   "execution_count": 5,
   "id": "658bc10d",
   "metadata": {},
   "outputs": [
    {
     "name": "stdout",
     "output_type": "stream",
     "text": [
      "[INFO] starting video stream...\n"
     ]
    },
    {
     "ename": "NameError",
     "evalue": "name 'proba' is not defined",
     "output_type": "error",
     "traceback": [
      "\u001b[1;31m---------------------------------------------------------------------------\u001b[0m",
      "\u001b[1;31mNameError\u001b[0m                                 Traceback (most recent call last)",
      "Input \u001b[1;32mIn [5]\u001b[0m, in \u001b[0;36m<cell line: 12>\u001b[1;34m()\u001b[0m\n\u001b[0;32m     59\u001b[0m ROI_list\u001b[38;5;241m.\u001b[39mappend(ROIFace(startX, startY, endX, endY, center))\n\u001b[0;32m     61\u001b[0m \u001b[38;5;66;03m# draw the bounding box of the face along with the\u001b[39;00m\n\u001b[0;32m     62\u001b[0m \u001b[38;5;66;03m# associated probability, the name label, and friendly label\u001b[39;00m\n\u001b[1;32m---> 63\u001b[0m text \u001b[38;5;241m=\u001b[39m \u001b[38;5;124m\"\u001b[39m\u001b[38;5;132;01m{}\u001b[39;00m\u001b[38;5;124m: \u001b[39m\u001b[38;5;132;01m{:.2f}\u001b[39;00m\u001b[38;5;124m%\u001b[39m\u001b[38;5;124m\"\u001b[39m\u001b[38;5;241m.\u001b[39mformat(name, \u001b[43mproba\u001b[49m \u001b[38;5;241m*\u001b[39m \u001b[38;5;241m100\u001b[39m)\n\u001b[0;32m     64\u001b[0m y \u001b[38;5;241m=\u001b[39m startY \u001b[38;5;241m-\u001b[39m \u001b[38;5;241m10\u001b[39m \u001b[38;5;28;01mif\u001b[39;00m startY \u001b[38;5;241m-\u001b[39m \u001b[38;5;241m10\u001b[39m \u001b[38;5;241m>\u001b[39m \u001b[38;5;241m10\u001b[39m \u001b[38;5;28;01melse\u001b[39;00m startY \u001b[38;5;241m+\u001b[39m \u001b[38;5;241m10\u001b[39m\n\u001b[0;32m     65\u001b[0m cv2\u001b[38;5;241m.\u001b[39mrectangle(frame, (startX, startY), (endX, endY),\n\u001b[0;32m     66\u001b[0m     (\u001b[38;5;241m0\u001b[39m, \u001b[38;5;241m0\u001b[39m, \u001b[38;5;241m255\u001b[39m), \u001b[38;5;241m2\u001b[39m)\n",
      "\u001b[1;31mNameError\u001b[0m: name 'proba' is not defined"
     ]
    }
   ],
   "source": [
    "# initialize the video stream, then allow the camera sensor to warm up\n",
    "print(\"[INFO] starting video stream...\")\n",
    "vs = VideoStream(src=0).start()\n",
    "time.sleep(2.0)\n",
    "\n",
    "# start the FPS throughput estimator\n",
    "fps = FPS().start()\n",
    "\n",
    "# loop over frames from the video file stream\n",
    "while True:\n",
    "    # grab the frame from the threaded video stream\n",
    "    frame = vs.read()\n",
    "    \n",
    "    # A new list containing the faces of the current frame is instantiated\n",
    "    ROI_list = []\n",
    "    \n",
    "    # resize the frame to have a width of 600 pixels (while\n",
    "    # maintaining the aspect ratio), and then grab the image\n",
    "    # dimensions\n",
    "    frame = imutils.resize(frame, width=600)\n",
    "    \n",
    "    (h, w) = frame.shape[:2]\n",
    "    center = w // 2\n",
    "    \n",
    "    # construct a blob from the image\n",
    "    imageBlob = cv2.dnn.blobFromImage(\n",
    "        cv2.resize(frame, (300, 300)), 1.0, (300, 300),\n",
    "        (104.0, 177.0, 123.0), swapRB=False, crop=False)\n",
    "    \n",
    "    # apply OpenCV's deep learning-based face detector to localize\n",
    "    # faces in the input image\n",
    "    detector.setInput(imageBlob)\n",
    "    detections = detector.forward()\n",
    "    \n",
    "    # loop over the detections\n",
    "    for i in range(0, detections.shape[2]):\n",
    "        # extract the confidence (i.e., probability) associated with\n",
    "        # the prediction\n",
    "        confidence = detections[0, 0, i, 2]\n",
    "        \n",
    "        # filter out weak detections\n",
    "        if confidence > data_params[\"detection_confidence\"]:\n",
    "            # compute the (x, y)-coordinates of the bounding box for\n",
    "            # the face\n",
    "            box = detections[0, 0, i, 3:7] * np.array([w, h, w, h])\n",
    "            (startX, startY, endX, endY) = box.astype(\"int\")\n",
    "            \n",
    "            # extract the face ROI\n",
    "            face = frame[startY:endY, startX:endX]\n",
    "            \n",
    "            (fH, fW) = face.shape[:2]\n",
    "            \n",
    "            # ensure the face width and height are sufficiently large\n",
    "            if fW < 10 or fH < 10:\n",
    "                continue\n",
    "            \n",
    "            # The coords are used as constructor parameters\n",
    "            ROI_list.append(ROIFace(startX, startY, endX, endY, center))\n",
    "            \n",
    "            # draw the bounding box of the face along with the\n",
    "            # associated probability, the name label, and friendly label\n",
    "            y = startY - 10 if startY - 10 > 10 else startY + 10\n",
    "            cv2.rectangle(frame, (startX, startY), (endX, endY),\n",
    "                (0, 0, 255), 2)\n",
    "            cv2.putText(frame, \"Unknown\", (startX, y),\n",
    "                cv2.FONT_HERSHEY_SIMPLEX, 0.45, (0, 0, 255), 2)\n",
    "    \n",
    "    # The ROI list of the current frame is examined\n",
    "    turret_controller(ROI_list, center)\n",
    "                        \n",
    "    # update the FPS counter\n",
    "    fps.update()\n",
    "    \n",
    "    # show the output frame\n",
    "    cv2.imshow(\"Frame\", frame)\n",
    "    key = cv2.waitKey(1) & 0xFF\n",
    "    \n",
    "    # if the `q` key was pressed, break from the loop\n",
    "    if key == ord(\"q\"):\n",
    "        break\n",
    "        \n",
    "# stop the timer and display FPS information\n",
    "fps.stop()\n",
    "print(\"[INFO] elasped time: {:.2f}\".format(fps.elapsed()))\n",
    "print(\"[INFO] approx. FPS: {:.2f}\".format(fps.fps()))\n",
    "\n",
    "# do a bit of cleanup\n",
    "cv2.destroyAllWindows()\n",
    "vs.stop()"
   ]
  }
 ],
 "metadata": {
  "kernelspec": {
   "display_name": "Python 3 (ipykernel)",
   "language": "python",
   "name": "python3"
  },
  "language_info": {
   "codemirror_mode": {
    "name": "ipython",
    "version": 3
   },
   "file_extension": ".py",
   "mimetype": "text/x-python",
   "name": "python",
   "nbconvert_exporter": "python",
   "pygments_lexer": "ipython3",
   "version": "3.8.5"
  }
 },
 "nbformat": 4,
 "nbformat_minor": 5
}
