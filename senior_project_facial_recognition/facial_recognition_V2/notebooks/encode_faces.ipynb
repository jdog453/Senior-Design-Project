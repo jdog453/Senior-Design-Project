{
 "cells": [
  {
   "cell_type": "code",
   "execution_count": 1,
   "id": "bfb982cd",
   "metadata": {},
   "outputs": [],
   "source": [
    "from imutils import paths\n",
    "import face_recognition\n",
    "import pickle\n",
    "import cv2\n",
    "import os"
   ]
  },
  {
   "cell_type": "code",
   "execution_count": 2,
   "id": "9f6c16e5",
   "metadata": {},
   "outputs": [],
   "source": [
    "data_params = {\n",
    "    \"dataset\":\"../dataset/\", # path to input directory of faces and images\n",
    "    \"encodings\":\"../output/encodings.pickle\", # path to serialized db of facial encodings\n",
    "    \"detection_method\":\"hog\" # face detection model to use: either 'hog' or 'cnn'\n",
    "}"
   ]
  },
  {
   "cell_type": "code",
   "execution_count": 3,
   "id": "cb61fc74",
   "metadata": {},
   "outputs": [
    {
     "name": "stdout",
     "output_type": "stream",
     "text": [
      "[INFO] quantifying faces...\n",
      "../dataset/austen\\austen_frame0.jpg\n",
      "../dataset/austen\\austen_frame102.jpg\n",
      "../dataset/austen\\austen_frame108.jpg\n",
      "../dataset/austen\\austen_frame114.jpg\n",
      "../dataset/austen\\austen_frame12.jpg\n",
      "../dataset/austen\\austen_frame120.jpg\n",
      "../dataset/austen\\austen_frame126.jpg\n",
      "../dataset/austen\\austen_frame18.jpg\n",
      "../dataset/austen\\austen_frame24.jpg\n",
      "../dataset/austen\\austen_frame30.jpg\n",
      "../dataset/austen\\austen_frame36.jpg\n",
      "../dataset/austen\\austen_frame42.jpg\n",
      "../dataset/austen\\austen_frame48.jpg\n",
      "../dataset/austen\\austen_frame54.jpg\n",
      "../dataset/austen\\austen_frame6.jpg\n",
      "../dataset/austen\\austen_frame60.jpg\n",
      "../dataset/austen\\austen_frame66.jpg\n",
      "../dataset/austen\\austen_frame72.jpg\n",
      "../dataset/austen\\austen_frame78.jpg\n",
      "../dataset/austen\\austen_frame84.jpg\n",
      "../dataset/austen\\austen_frame90.jpg\n",
      "../dataset/austen\\austen_frame96.jpg\n",
      "../dataset/fred\\fred_frame0.jpg\n",
      "../dataset/fred\\fred_frame104.jpg\n",
      "../dataset/fred\\fred_frame112.jpg\n",
      "../dataset/fred\\fred_frame120.jpg\n",
      "../dataset/fred\\fred_frame128.jpg\n",
      "../dataset/fred\\fred_frame136.jpg\n",
      "../dataset/fred\\fred_frame144.jpg\n",
      "../dataset/fred\\fred_frame152.jpg\n",
      "../dataset/fred\\fred_frame16.jpg\n",
      "../dataset/fred\\fred_frame160.jpg\n",
      "../dataset/fred\\fred_frame168.jpg\n",
      "../dataset/fred\\fred_frame24.jpg\n",
      "../dataset/fred\\fred_frame32.jpg\n",
      "../dataset/fred\\fred_frame40.jpg\n",
      "../dataset/fred\\fred_frame48.jpg\n",
      "../dataset/fred\\fred_frame56.jpg\n",
      "../dataset/fred\\fred_frame64.jpg\n",
      "../dataset/fred\\fred_frame72.jpg\n",
      "../dataset/fred\\fred_frame8.jpg\n",
      "../dataset/fred\\fred_frame80.jpg\n",
      "../dataset/fred\\fred_frame88.jpg\n",
      "../dataset/fred\\fred_frame96.jpg\n",
      "../dataset/unknown\\000001.jpg\n",
      "../dataset/unknown\\000002.jpg\n",
      "../dataset/unknown\\000003.jpg\n",
      "../dataset/unknown\\000004.jpg\n",
      "../dataset/unknown\\000005.jpg\n",
      "../dataset/unknown\\000006.jpg\n",
      "../dataset/unknown\\000007.jpg\n",
      "../dataset/unknown\\000008.jpg\n",
      "../dataset/unknown\\000009.jpg\n",
      "../dataset/unknown\\000010.jpg\n",
      "../dataset/unknown\\000011.jpg\n",
      "../dataset/unknown\\000012.jpg\n",
      "../dataset/unknown\\000013.jpg\n",
      "../dataset/unknown\\000014.jpg\n",
      "../dataset/unknown\\000015.jpg\n",
      "../dataset/unknown\\000016.jpg\n",
      "../dataset/unknown\\000017.jpg\n",
      "../dataset/unknown\\000018.jpg\n",
      "../dataset/unknown\\000019.jpg\n",
      "../dataset/unknown\\000020.jpg\n",
      "../dataset/unknown\\000021.jpg\n",
      "../dataset/unknown\\000022.jpg\n"
     ]
    }
   ],
   "source": [
    "# grab the paths to the input images in our dataset\n",
    "print(\"[INFO] quantifying faces...\")\n",
    "imagePaths = list(paths.list_images(data_params[\"dataset\"]))\n",
    "print(*imagePaths, sep=\"\\n\")\n",
    "\n",
    "# initialize the list of known encodings and known names\n",
    "knownEncodings = []\n",
    "knownNames = []"
   ]
  },
  {
   "cell_type": "code",
   "execution_count": null,
   "id": "344a4af2",
   "metadata": {},
   "outputs": [
    {
     "name": "stdout",
     "output_type": "stream",
     "text": [
      "[INFO] processing image 1/66\n",
      "<class 'numpy.ndarray'>\n",
      "[INFO] processing image 2/66\n",
      "<class 'numpy.ndarray'>\n",
      "[INFO] processing image 3/66\n"
     ]
    }
   ],
   "source": [
    "# loop over the image paths\n",
    "for (i, imagePath) in enumerate(imagePaths):\n",
    "    # extract the person name from the image path\n",
    "    print(\"[INFO] processing image {}/{}\".format(i + 1, len(imagePaths)))\n",
    "    name = imagePath[imagePath.rindex('/')+1:].split('\\\\')[0]\n",
    "    \n",
    "    # load the input image and convert it from BGR (OpenCV ordering)\n",
    "    # to dlib ordering (RGB)\n",
    "    image = cv2.imread(imagePath)\n",
    "    rgb = cv2.cvtColor(image, cv2.COLOR_BGR2RGB)\n",
    "    \n",
    "    # detect the (x, y)-coordinates of the bounding boxes\n",
    "    # corresponding to each face in the input image\n",
    "    boxes = face_recognition.face_locations(rgb, model=data_params[\"detection_method\"])\n",
    "    \n",
    "    # compute the facial embedding for the face\n",
    "    encodings = face_recognition.face_encodings(rgb, boxes)\n",
    "    \n",
    "    # loop over the encodings\n",
    "    for encoding in encodings:\n",
    "        print(type(encoding))\n",
    "        # add each encoding + name to our set of known names and\n",
    "        # encodings\n",
    "        knownEncodings.append(encoding)\n",
    "        knownNames.append(name)"
   ]
  },
  {
   "cell_type": "code",
   "execution_count": null,
   "id": "5926795f",
   "metadata": {},
   "outputs": [],
   "source": [
    "# dump the facial encodings + names to disk\n",
    "print(\"[INFO] serializing encodings...\")\n",
    "data = {\"encodings\": knownEncodings, \"names\": knownNames}\n",
    "f = open(data_params[\"encodings\"], \"wb\")\n",
    "f.write(pickle.dumps(data))\n",
    "f.close()"
   ]
  },
  {
   "cell_type": "code",
   "execution_count": null,
   "id": "47033bb5",
   "metadata": {},
   "outputs": [],
   "source": []
  }
 ],
 "metadata": {
  "kernelspec": {
   "display_name": "Python 3",
   "language": "python",
   "name": "python3"
  },
  "language_info": {
   "codemirror_mode": {
    "name": "ipython",
    "version": 3
   },
   "file_extension": ".py",
   "mimetype": "text/x-python",
   "name": "python",
   "nbconvert_exporter": "python",
   "pygments_lexer": "ipython3",
   "version": "3.9.5"
  }
 },
 "nbformat": 4,
 "nbformat_minor": 5
}
