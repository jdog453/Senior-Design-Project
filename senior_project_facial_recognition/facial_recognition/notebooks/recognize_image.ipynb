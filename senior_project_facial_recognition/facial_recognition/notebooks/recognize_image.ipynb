{
 "cells": [
  {
   "cell_type": "code",
   "execution_count": 1,
   "id": "2faf3b12",
   "metadata": {},
   "outputs": [],
   "source": [
    "# import the necessary packages\n",
    "import numpy as np\n",
    "import imutils\n",
    "import pickle\n",
    "import cv2\n",
    "import os"
   ]
  },
  {
   "cell_type": "code",
   "execution_count": 2,
   "id": "1f039553",
   "metadata": {},
   "outputs": [],
   "source": [
    "data_params = {\n",
    "    \"image\":\"../../facial_recognition_data/faces_dataset/fred/new_frame1336.jpg\", # Path to input image\n",
    "    \"detector\":\"../../facial_detection/models/\", # Path to OpenCV's deep learning face detector\n",
    "    \"embedding_model\":\"../models/openface.nn4.small2.v1.t7\", # Path to OpenCV's embedding model\n",
    "    \"recognizer\":\"../../output/recognizer.pickle\", # Path to model trained to recognize faces\n",
    "    \"label_encoder\":\"../../output/le.pickle\", # Path to label encoder\n",
    "    \"confidence\":0.5 # Min probability to filter weak detections\n",
    "}"
   ]
  },
  {
   "cell_type": "code",
   "execution_count": 3,
   "id": "ec86d326",
   "metadata": {},
   "outputs": [
    {
     "name": "stdout",
     "output_type": "stream",
     "text": [
      "[INFO] loading face detector...\n"
     ]
    }
   ],
   "source": [
    "# load our serialized face detector from disk\n",
    "print(\"[INFO] loading face detector...\")\n",
    "protoPath = os.path.sep.join([data_params[\"detector\"], \"deploy.prototxt\"])\n",
    "modelPath = os.path.sep.join([data_params[\"detector\"], \"res10_300x300_ssd_iter_140000.caffemodel\"])\n",
    "detector = cv2.dnn.readNetFromCaffe(protoPath, modelPath)"
   ]
  },
  {
   "cell_type": "code",
   "execution_count": 4,
   "id": "a2dcfc37",
   "metadata": {},
   "outputs": [
    {
     "name": "stdout",
     "output_type": "stream",
     "text": [
      "[INFO] loading face recognizer...\n"
     ]
    }
   ],
   "source": [
    "# load our serialized face embedding model from disk\n",
    "print(\"[INFO] loading face recognizer...\")\n",
    "embedder = cv2.dnn.readNetFromTorch(data_params[\"embedding_model\"])"
   ]
  },
  {
   "cell_type": "code",
   "execution_count": 5,
   "id": "1b00953c",
   "metadata": {},
   "outputs": [
    {
     "ename": "ModuleNotFoundError",
     "evalue": "No module named 'sklearn'",
     "output_type": "error",
     "traceback": [
      "\u001b[1;31m---------------------------------------------------------------------------\u001b[0m",
      "\u001b[1;31mModuleNotFoundError\u001b[0m                       Traceback (most recent call last)",
      "\u001b[1;32m<ipython-input-5-a5cbf2b332ab>\u001b[0m in \u001b[0;36m<module>\u001b[1;34m\u001b[0m\n\u001b[0;32m      1\u001b[0m \u001b[1;31m# load the actual face recognition model along with the label encoder\u001b[0m\u001b[1;33m\u001b[0m\u001b[1;33m\u001b[0m\u001b[1;33m\u001b[0m\u001b[0m\n\u001b[1;32m----> 2\u001b[1;33m \u001b[0mrecognizer\u001b[0m \u001b[1;33m=\u001b[0m \u001b[0mpickle\u001b[0m\u001b[1;33m.\u001b[0m\u001b[0mloads\u001b[0m\u001b[1;33m(\u001b[0m\u001b[0mopen\u001b[0m\u001b[1;33m(\u001b[0m\u001b[0mdata_params\u001b[0m\u001b[1;33m[\u001b[0m\u001b[1;34m\"recognizer\"\u001b[0m\u001b[1;33m]\u001b[0m\u001b[1;33m,\u001b[0m \u001b[1;34m\"rb\"\u001b[0m\u001b[1;33m)\u001b[0m\u001b[1;33m.\u001b[0m\u001b[0mread\u001b[0m\u001b[1;33m(\u001b[0m\u001b[1;33m)\u001b[0m\u001b[1;33m)\u001b[0m\u001b[1;33m\u001b[0m\u001b[1;33m\u001b[0m\u001b[0m\n\u001b[0m\u001b[0;32m      3\u001b[0m \u001b[0mle\u001b[0m \u001b[1;33m=\u001b[0m \u001b[0mpickle\u001b[0m\u001b[1;33m.\u001b[0m\u001b[0mloads\u001b[0m\u001b[1;33m(\u001b[0m\u001b[0mopen\u001b[0m\u001b[1;33m(\u001b[0m\u001b[0mdata_params\u001b[0m\u001b[1;33m[\u001b[0m\u001b[1;34m\"label_encoder\"\u001b[0m\u001b[1;33m]\u001b[0m\u001b[1;33m,\u001b[0m \u001b[1;34m\"rb\"\u001b[0m\u001b[1;33m)\u001b[0m\u001b[1;33m.\u001b[0m\u001b[0mread\u001b[0m\u001b[1;33m(\u001b[0m\u001b[1;33m)\u001b[0m\u001b[1;33m)\u001b[0m\u001b[1;33m\u001b[0m\u001b[1;33m\u001b[0m\u001b[0m\n",
      "\u001b[1;31mModuleNotFoundError\u001b[0m: No module named 'sklearn'"
     ]
    }
   ],
   "source": [
    "# load the actual face recognition model along with the label encoder\n",
    "recognizer = pickle.loads(open(data_params[\"recognizer\"], \"rb\").read())\n",
    "le = pickle.loads(open(data_params[\"label_encoder\"], \"rb\").read())"
   ]
  },
  {
   "cell_type": "code",
   "execution_count": null,
   "id": "3ef4ce2d",
   "metadata": {},
   "outputs": [],
   "source": [
    "# load the image, resize it to have a width of 600 pixels (while\n",
    "# maintaining the aspect ratio), and then grab the image dimensions\n",
    "image = cv2.imread(data_params[\"image\"])\n",
    "image = imutils.resize(image, width=600)\n",
    "(h, w) = image.shape[:2]\n",
    "\n",
    "# construct a blob from the image\n",
    "imageBlob = cv2.dnn.blobFromImage(\n",
    "    cv2.resize(image, (300, 300)), 1.0, (300, 300),\n",
    "    (104.0, 177.0, 123.0), swapRB=False, crop=False)\n",
    "\n",
    "# apply OpenCV's deep learning-based face detector to localize\n",
    "# faces in the input image\n",
    "detector.setInput(imageBlob)\n",
    "detections = detector.forward()"
   ]
  },
  {
   "cell_type": "code",
   "execution_count": null,
   "id": "88791866",
   "metadata": {},
   "outputs": [],
   "source": [
    "# loop over the detections\n",
    "for i in range(0, detections.shape[2]):\n",
    "    # extract the confidence (i.e., probability) associated with the\n",
    "    # prediction\n",
    "    confidence = detections[0, 0, i, 2]\n",
    "\n",
    "    # filter out weak detections\n",
    "    if confidence > data_params[\"confidence\"]:\n",
    "        # compute the (x, y)-coordinates of the bounding box for the\n",
    "        # face\n",
    "        box = detections[0, 0, i, 3:7] * np.array([w, h, w, h])\n",
    "        (startX, startY, endX, endY) = box.astype(\"int\")\n",
    "\n",
    "        # extract the face ROI\n",
    "        face = image[startY:endY, startX:endX]\n",
    "        (fH, fW) = face.shape[:2]\n",
    "\n",
    "        # ensure the face width and height are sufficiently large\n",
    "        if fW < 20 or fH < 20:\n",
    "            continue\n",
    "        # construct a blob for the face ROI, then pass the blob\n",
    "        # through our face embedding model to obtain the 128-d\n",
    "        # quantification of the face\n",
    "        faceBlob = cv2.dnn.blobFromImage(face, 1.0 / 255, (96, 96),\n",
    "            (0, 0, 0), swapRB=True, crop=False)\n",
    "        embedder.setInput(faceBlob)\n",
    "        vec = embedder.forward()\n",
    "\n",
    "        # perform classification to recognize the face\n",
    "        preds = recognizer.predict_proba(vec)[0]\n",
    "        j = np.argmax(preds)\n",
    "        proba = preds[j]\n",
    "        name = le.classes_[j]\n",
    "        \n",
    "        # draw the bounding box of the face along with the associated\n",
    "        # probability\n",
    "        text = \"{}: {:.2f}%\".format(name, proba * 100)\n",
    "        print(text)\n",
    "        y = startY - 10 if startY - 10 > 10 else startY + 10\n",
    "        cv2.rectangle(image, (startX, startY), (endX, endY),\n",
    "            (0, 0, 255), 2)\n",
    "        cv2.putText(image, text, (startX, y),\n",
    "            cv2.FONT_HERSHEY_SIMPLEX, 0.45, (0, 0, 255), 2)\n",
    "# show the output image\n",
    "cv2.imshow(\"Image\", image)\n",
    "cv2.waitKey(0)\n",
    "cv2.destroyAllWindows()"
   ]
  },
  {
   "cell_type": "code",
   "execution_count": null,
   "id": "b720e3e9",
   "metadata": {},
   "outputs": [],
   "source": []
  }
 ],
 "metadata": {
  "kernelspec": {
   "display_name": "Python 3",
   "language": "python",
   "name": "python3"
  },
  "language_info": {
   "codemirror_mode": {
    "name": "ipython",
    "version": 3
   },
   "file_extension": ".py",
   "mimetype": "text/x-python",
   "name": "python",
   "nbconvert_exporter": "python",
   "pygments_lexer": "ipython3",
   "version": "3.6.13"
  }
 },
 "nbformat": 4,
 "nbformat_minor": 5
}
