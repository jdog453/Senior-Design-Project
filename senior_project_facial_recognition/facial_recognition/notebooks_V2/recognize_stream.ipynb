{
 "cells": [
  {
   "cell_type": "code",
   "execution_count": 1,
   "id": "70ecda39",
   "metadata": {},
   "outputs": [],
   "source": [
    "# import the necessary packages\n",
    "from imutils.video import VideoStream\n",
    "from imutils.video import FPS\n",
    "import face_recognition\n",
    "import imutils\n",
    "import pickle\n",
    "import time\n",
    "import dlib\n",
    "import cv2\n",
    "import os, sys\n",
    "\n",
    "# Import functions from gunController utilities file\n",
    "sys.path.append('../utilities')\n",
    "from gunController import *\n",
    "from ROIClass import *\n",
    "from alignFaces import *"
   ]
  },
  {
   "cell_type": "code",
   "execution_count": 2,
   "id": "0ff644eb",
   "metadata": {},
   "outputs": [],
   "source": [
    "data_params = {\n",
    "    \"encodings\":\"../../output/encodings.pickle\", # path to serialized db of facial encodings\n",
    "    \"detection_method\":\"cnn\" # \"face detection model to use: either `hog` or `cnn`\"\n",
    "}"
   ]
  },
  {
   "cell_type": "code",
   "execution_count": null,
   "id": "c817e3a1",
   "metadata": {},
   "outputs": [],
   "source": [
    "# gc = gunController()"
   ]
  },
  {
   "cell_type": "code",
   "execution_count": null,
   "id": "41492590",
   "metadata": {},
   "outputs": [],
   "source": [
    "# The below function is responsible for the firing of the nerf gun turret\n",
    "def turret_controller(ROI_list, center):\n",
    "    # If there is at least face in the ROI_list...\n",
    "    if len(ROI_list):\n",
    "        # The list is sorted based on the ROI's distance from the center of the frame.\n",
    "        ROI_list.sort()\n",
    "        \n",
    "        # The ROI closest to center is the first item of the list. This is known as the current ROI\n",
    "        curr_ROI_obj = ROI_list[0]\n",
    "        dist_from_center = curr_ROI_obj.dist_from_center\n",
    "        \n",
    "        # If the current ROI is 0, then the face is aligned with the center of the frame \n",
    "        if not dist_from_center:\n",
    "            print(\"Pull trigger\")\n",
    "            # gc.pull_trigger()\n",
    "        else:\n",
    "            print(\"Release trigger\")\n",
    "            # gc.release_trigger()\n",
    "            if center < curr_ROI_obj.startX:\n",
    "                print(\"Move left\")\n",
    "                # gc.move_left()\n",
    "            else:\n",
    "                print(\"Move right\")\n",
    "                # gc.move_right()\n",
    "    else:\n",
    "        print(\"Release trigger\")\n",
    "        # gc.release_trigger()"
   ]
  },
  {
   "cell_type": "code",
   "execution_count": 3,
   "id": "dd619469",
   "metadata": {},
   "outputs": [
    {
     "name": "stdout",
     "output_type": "stream",
     "text": [
      "[INFO] loading encodings...\n",
      "[INFO] starting video stream...\n"
     ]
    }
   ],
   "source": [
    "# load the known faces and embeddings\n",
    "print(\"[INFO] loading encodings...\")\n",
    "data = pickle.loads(open(data_params[\"encodings\"], \"rb\").read())\n",
    "\n",
    "# initialize the video stream and pointer to output video file, then\n",
    "# allow the camera sensor to warm up\n",
    "print(\"[INFO] starting video stream...\")\n",
    "vs = VideoStream(src=0).start()\n",
    "time.sleep(2.0)\n",
    "\n",
    "# start the FPS throughput estimator\n",
    "fps = FPS().start()"
   ]
  },
  {
   "cell_type": "code",
   "execution_count": 4,
   "id": "6c077f2c",
   "metadata": {},
   "outputs": [
    {
     "name": "stdout",
     "output_type": "stream",
     "text": [
      "[INFO] elasped time: 22.58\n",
      "[INFO] approx. FPS: 2.35\n"
     ]
    }
   ],
   "source": [
    "# loop over frames from the video file stream\n",
    "while True:\n",
    "    # grab the frame from the threaded video stream\n",
    "    frame = vs.read()\n",
    "\n",
    "    # A new list containing the faces of the current frame is instantiated\n",
    "    ROI_list = []\n",
    "    \n",
    "    # convert the input frame from BGR to RGB then resize it to have\n",
    "    # a width of 600px (to speedup processing)\n",
    "    rgb = cv2.cvtColor(frame, cv2.COLOR_BGR2RGB)\n",
    "    rgb = imutils.resize(frame, width=600)\n",
    "    r = frame.shape[1] / float(rgb.shape[1])\n",
    "    \n",
    "    # detect the (x, y)-coordinates of the bounding boxes\n",
    "    # corresponding to each face in the input frame, then compute\n",
    "    # the facial embeddings for each face\n",
    "    boxes = face_recognition.face_locations(rgb, model=data_params[\"detection_method\"])\n",
    "    encodings = face_recognition.face_encodings(rgb, boxes)\n",
    "    names = []\n",
    "\n",
    "    # loop over the facial embeddings\n",
    "    for encoding in encodings:\n",
    "        # attempt to match each face in the input image to our known\n",
    "        # encodings\n",
    "        matches = face_recognition.compare_faces(data[\"encodings\"],\n",
    "            encoding)\n",
    "        name = \"Unknown\"\n",
    "        \n",
    "        # check to see if we have found a match\n",
    "        if True in matches:\n",
    "            # find the indexes of all matched faces then initialize a\n",
    "            # dictionary to count the total number of times each face\n",
    "            # was matched\n",
    "            matchedIdxs = [i for (i, b) in enumerate(matches) if b]\n",
    "            counts = {}\n",
    "            \n",
    "            # loop over the matched indexes and maintain a count for\n",
    "            # each recognized face face\n",
    "            for i in matchedIdxs:\n",
    "                name = data[\"names\"][i]\n",
    "                counts[name] = counts.get(name, 0) + 1\n",
    "                \n",
    "            # determine the recognized face with the largest number\n",
    "            # of votes (note: in the event of an unlikely tie Python\n",
    "            # will select first entry in the dictionary)\n",
    "            name = max(counts, key=counts.get)\n",
    "\n",
    "        # update the list of names\n",
    "        names.append(name)\n",
    "    # loop over the recognized faces\n",
    "    for ((top, right, bottom, left), name) in zip(boxes, names):\n",
    "        # rescale the face coordinates\n",
    "        top = int(top * r)\n",
    "        right = int(right * r)\n",
    "        bottom = int(bottom * r)\n",
    "        left = int(left * r)\n",
    "        \n",
    "        # If the current face is unknown, its coordinates are appended to a list.\n",
    "        if name == \"Unknown\":\n",
    "            # The coords and centers are used as constructor parameters to the ROIFace class\n",
    "            ROI_list.append(ROIFace(left, top, right, bottom, abs(right - left)))\n",
    "        \n",
    "        # draw the predicted face name on the image\n",
    "        cv2.rectangle(frame, (left, top), (right, bottom),\n",
    "            (0, 255, 0), 2)\n",
    "        y = top - 15 if top - 15 > 15 else top + 15\n",
    "        cv2.putText(frame, name, (left, y), cv2.FONT_HERSHEY_SIMPLEX,\n",
    "            0.75, (0, 255, 0), 2)\n",
    "    \n",
    "    # update the FPS counter\n",
    "    fps.update()\n",
    "    \n",
    "    # show the output frame\n",
    "    cv2.imshow(\"Frame\", frame)\n",
    "    key = cv2.waitKey(1) & 0xFF\n",
    "    \n",
    "    # if the `q` key was pressed, break from the loop\n",
    "    if key == ord(\"q\"):\n",
    "        break\n",
    "\n",
    "# stop the timer and display FPS information\n",
    "fps.stop()\n",
    "print(\"[INFO] elasped time: {:.2f}\".format(fps.elapsed()))\n",
    "print(\"[INFO] approx. FPS: {:.2f}\".format(fps.fps()))\n",
    "\n",
    "# do a bit of cleanup\n",
    "cv2.destroyAllWindows()\n",
    "vs.stop()"
   ]
  }
 ],
 "metadata": {
  "kernelspec": {
   "display_name": "Python 3 (ipykernel)",
   "language": "python",
   "name": "python3"
  },
  "language_info": {
   "codemirror_mode": {
    "name": "ipython",
    "version": 3
   },
   "file_extension": ".py",
   "mimetype": "text/x-python",
   "name": "python",
   "nbconvert_exporter": "python",
   "pygments_lexer": "ipython3",
   "version": "3.8.5"
  }
 },
 "nbformat": 4,
 "nbformat_minor": 5
}
