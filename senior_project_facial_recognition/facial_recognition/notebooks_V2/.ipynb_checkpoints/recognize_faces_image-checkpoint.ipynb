{
 "cells": [
  {
   "cell_type": "code",
   "execution_count": 1,
   "id": "211042af",
   "metadata": {},
   "outputs": [],
   "source": [
    "# import the necessary packages\n",
    "import face_recognition\n",
    "import imutils\n",
    "import pickle\n",
    "import cv2"
   ]
  },
  {
   "cell_type": "code",
   "execution_count": 2,
   "id": "332b6471",
   "metadata": {},
   "outputs": [],
   "source": [
    "data_params = {\n",
    "    \"encodings\":\"../../output/encodings.pickle\", # path to serialized db of facial encodings\n",
    "    \"image\":\"../../facial_recognition_data/faces_dataset/fred/fred_frame1656.jpg\", # path to input image\n",
    "    \"detection_method\":\"cnn\" # \"face detection model to use: either `hog` or `cnn`\"\n",
    "}"
   ]
  },
  {
   "cell_type": "code",
   "execution_count": 3,
   "id": "2a53c073",
   "metadata": {},
   "outputs": [
    {
     "name": "stdout",
     "output_type": "stream",
     "text": [
      "[INFO] loading encodings...\n",
      "[INFO] recognizing faces...\n"
     ]
    }
   ],
   "source": [
    "# load the known faces and embeddings\n",
    "print(\"[INFO] loading encodings...\")\n",
    "data = pickle.loads(open(data_params[\"encodings\"], \"rb\").read())\n",
    "\n",
    "# load the input image and convert it from BGR to RGB\n",
    "image = cv2.imread(data_params[\"image\"])\n",
    "image = imutils.resize(image, width=300)\n",
    "rgb = cv2.cvtColor(image, cv2.COLOR_BGR2RGB)\n",
    "\n",
    "# detect the (x, y)-coordinates of the bounding boxes corresponding\n",
    "# to each face in the input image, then compute the facial embeddings\n",
    "# for each face\n",
    "print(\"[INFO] recognizing faces...\")\n",
    "boxes = face_recognition.face_locations(rgb, model=data_params[\"detection_method\"])\n",
    "encodings = face_recognition.face_encodings(rgb, boxes)\n",
    "\n",
    "# initialize the list of names for each face detected\n",
    "names = []"
   ]
  },
  {
   "cell_type": "code",
   "execution_count": 4,
   "id": "90cd857e",
   "metadata": {},
   "outputs": [],
   "source": [
    "# loop over the facial embeddings\n",
    "for encoding in encodings:\n",
    "    # attempt to match each face in the input image to our known\n",
    "    # encodings\n",
    "    matches = face_recognition.compare_faces(data[\"encodings\"], encoding)\n",
    "    name = \"Unknown\"\n",
    "    \n",
    "    # check to see if we have found a match\n",
    "    if True in matches:\n",
    "        # find the indexes of all matched faces then initialize a\n",
    "        # dictionary to count the total number of times each face\n",
    "        # was matched\n",
    "        matchedIdxs = [i for (i, b) in enumerate(matches) if b]\n",
    "        counts = {}\n",
    "        \n",
    "        # loop over the matched indexes and maintain a count for\n",
    "        # each recognized face face\n",
    "        for i in matchedIdxs:\n",
    "            name = data[\"names\"][i]\n",
    "            counts[name] = counts.get(name, 0) + 1\n",
    "            \n",
    "        # determine the recognized face with the largest number of\n",
    "        # votes (note: in the event of an unlikely tie Python will\n",
    "        # select first entry in the dictionary)\n",
    "        name = max(counts, key=counts.get)\n",
    "\n",
    "    # update the list of names\n",
    "    names.append(name)"
   ]
  },
  {
   "cell_type": "code",
   "execution_count": 5,
   "id": "299fbb6f",
   "metadata": {},
   "outputs": [],
   "source": [
    "# loop over the recognized faces\n",
    "for ((top, right, bottom, left), name) in zip(boxes, names):\n",
    "    # draw the predicted face name on the image\n",
    "    cv2.rectangle(image, (left, top), (right, bottom), (0, 255, 0), 2)\n",
    "    y = top - 15 if top - 15 > 15 else top + 15\n",
    "    cv2.putText(image, name, (left, y), cv2.FONT_HERSHEY_SIMPLEX,\n",
    "        0.75, (0, 255, 0), 2)\n",
    "# show the output image\n",
    "cv2.imshow(\"Image\", image)\n",
    "cv2.waitKey(0)\n",
    "cv2.destroyAllWindows()"
   ]
  }
 ],
 "metadata": {
  "kernelspec": {
   "display_name": "Python 3",
   "language": "python",
   "name": "python3"
  },
  "language_info": {
   "codemirror_mode": {
    "name": "ipython",
    "version": 3
   },
   "file_extension": ".py",
   "mimetype": "text/x-python",
   "name": "python",
   "nbconvert_exporter": "python",
   "pygments_lexer": "ipython3",
   "version": "3.6.13"
  }
 },
 "nbformat": 4,
 "nbformat_minor": 5
}
