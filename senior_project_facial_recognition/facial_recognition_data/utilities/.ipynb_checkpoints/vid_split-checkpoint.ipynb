{
 "cells": [
  {
   "cell_type": "code",
   "execution_count": 1,
   "id": "3cb125af",
   "metadata": {},
   "outputs": [],
   "source": [
    "import cv2\n",
    "import os"
   ]
  },
  {
   "cell_type": "code",
   "execution_count": 2,
   "id": "df870f62",
   "metadata": {},
   "outputs": [],
   "source": [
    "data_params = {\n",
    "    \"input\":\"C:/Users/Austen Brownfield/Desktop/School Files/Super Senior Year Files/Spring/Senior_Design/videos/andrew.mp4\", # path to video file\n",
    "    \"max_pictures\": 100, # integer representing the max amount of pictures to be taken from video\n",
    "    \"output_dir\": \"../faces_dataset_2/andrew\", # path to dir that will contain new images.\n",
    "}\n",
    "\n",
    "if not os.path.isdir(data_params[\"output_dir\"]):\n",
    "    os.makedirs(data_params[\"output_dir\"])"
   ]
  },
  {
   "cell_type": "code",
   "execution_count": 3,
   "id": "44ae0afa",
   "metadata": {},
   "outputs": [],
   "source": [
    "vidcap = cv2.VideoCapture(data_params[\"input\"])\n",
    "num_frames = int(vidcap.get(cv2.CAP_PROP_FRAME_COUNT))\n",
    "count = 0\n",
    "num_pictures = 0\n",
    "success, image = vidcap.read()\n",
    "if num_frames < 100:\n",
    "    inc_amt = 1\n",
    "else:\n",
    "    inc_amt = num_frames//data_params[\"max_pictures\"]"
   ]
  },
  {
   "cell_type": "code",
   "execution_count": 4,
   "id": "b36b423e",
   "metadata": {},
   "outputs": [
    {
     "name": "stdout",
     "output_type": "stream",
     "text": [
      "Number of video frames: 574\n",
      "Increment amount: 5\n"
     ]
    }
   ],
   "source": [
    "print(\"Number of video frames: {}\".format(num_frames))\n",
    "print(\"Increment amount: {}\".format(inc_amt))"
   ]
  },
  {
   "cell_type": "code",
   "execution_count": 5,
   "id": "061b2936",
   "metadata": {},
   "outputs": [],
   "source": [
    "while success and num_pictures < data_params[\"max_pictures\"]:\n",
    "    if count % inc_amt == 0: # only every xth frame is saved as an image.\n",
    "        file_name = \"frame{}.jpg\".format(count)\n",
    "        cv2.imwrite(os.path.join(data_params[\"output_dir\"], file_name), image) # frame is saved as JPEG file\n",
    "        num_pictures += 1\n",
    "    success, image = vidcap.read() # the frame is read regardless of the current count. This increments the video frame.\n",
    "    count += 1"
   ]
  }
 ],
 "metadata": {
  "kernelspec": {
   "display_name": "Python 3 (ipykernel)",
   "language": "python",
   "name": "python3"
  },
  "language_info": {
   "codemirror_mode": {
    "name": "ipython",
    "version": 3
   },
   "file_extension": ".py",
   "mimetype": "text/x-python",
   "name": "python",
   "nbconvert_exporter": "python",
   "pygments_lexer": "ipython3",
   "version": "3.8.5"
  }
 },
 "nbformat": 4,
 "nbformat_minor": 5
}
